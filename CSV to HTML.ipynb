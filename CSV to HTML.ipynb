{
 "cells": [
  {
   "cell_type": "code",
   "execution_count": 11,
   "metadata": {},
   "outputs": [],
   "source": [
    "import pandas as pd\n",
    "import os"
   ]
  },
  {
   "cell_type": "code",
   "execution_count": 12,
   "metadata": {},
   "outputs": [
    {
     "data": {
      "text/plain": [
       "'.\\\\resources\\\\cities.csv'"
      ]
     },
     "execution_count": 12,
     "metadata": {},
     "output_type": "execute_result"
    }
   ],
   "source": [
    "cities_csv = os.path.join('.','resources','cities.csv')\n",
    "cities_csv"
   ]
  },
  {
   "cell_type": "code",
   "execution_count": 13,
   "metadata": {},
   "outputs": [
    {
     "data": {
      "text/html": [
       "<div>\n",
       "<style scoped>\n",
       "    .dataframe tbody tr th:only-of-type {\n",
       "        vertical-align: middle;\n",
       "    }\n",
       "\n",
       "    .dataframe tbody tr th {\n",
       "        vertical-align: top;\n",
       "    }\n",
       "\n",
       "    .dataframe thead th {\n",
       "        text-align: right;\n",
       "    }\n",
       "</style>\n",
       "<table border=\"1\" class=\"dataframe\">\n",
       "  <thead>\n",
       "    <tr style=\"text-align: right;\">\n",
       "      <th></th>\n",
       "      <th>City_ID</th>\n",
       "      <th>City</th>\n",
       "      <th>Country</th>\n",
       "      <th>Date</th>\n",
       "      <th>Lat</th>\n",
       "      <th>Lng</th>\n",
       "      <th>Max Temp</th>\n",
       "      <th>Humidity</th>\n",
       "      <th>Cloudiness</th>\n",
       "      <th>Wind Speed</th>\n",
       "    </tr>\n",
       "  </thead>\n",
       "  <tbody>\n",
       "    <tr>\n",
       "      <td>0</td>\n",
       "      <td>0</td>\n",
       "      <td>jacareacanga</td>\n",
       "      <td>BR</td>\n",
       "      <td>1528902000</td>\n",
       "      <td>-6.22</td>\n",
       "      <td>-57.76</td>\n",
       "      <td>89.60</td>\n",
       "      <td>62</td>\n",
       "      <td>0</td>\n",
       "      <td>6.93</td>\n",
       "    </tr>\n",
       "    <tr>\n",
       "      <td>1</td>\n",
       "      <td>1</td>\n",
       "      <td>kaitangata</td>\n",
       "      <td>NZ</td>\n",
       "      <td>1528905304</td>\n",
       "      <td>-46.28</td>\n",
       "      <td>169.85</td>\n",
       "      <td>42.61</td>\n",
       "      <td>94</td>\n",
       "      <td>100</td>\n",
       "      <td>5.64</td>\n",
       "    </tr>\n",
       "    <tr>\n",
       "      <td>2</td>\n",
       "      <td>2</td>\n",
       "      <td>goulburn</td>\n",
       "      <td>AU</td>\n",
       "      <td>1528905078</td>\n",
       "      <td>-34.75</td>\n",
       "      <td>149.72</td>\n",
       "      <td>44.32</td>\n",
       "      <td>91</td>\n",
       "      <td>20</td>\n",
       "      <td>10.11</td>\n",
       "    </tr>\n",
       "    <tr>\n",
       "      <td>3</td>\n",
       "      <td>3</td>\n",
       "      <td>lata</td>\n",
       "      <td>IN</td>\n",
       "      <td>1528905305</td>\n",
       "      <td>30.78</td>\n",
       "      <td>78.62</td>\n",
       "      <td>59.89</td>\n",
       "      <td>89</td>\n",
       "      <td>76</td>\n",
       "      <td>0.94</td>\n",
       "    </tr>\n",
       "    <tr>\n",
       "      <td>4</td>\n",
       "      <td>4</td>\n",
       "      <td>chokurdakh</td>\n",
       "      <td>RU</td>\n",
       "      <td>1528905306</td>\n",
       "      <td>70.62</td>\n",
       "      <td>147.90</td>\n",
       "      <td>32.17</td>\n",
       "      <td>88</td>\n",
       "      <td>0</td>\n",
       "      <td>2.95</td>\n",
       "    </tr>\n",
       "  </tbody>\n",
       "</table>\n",
       "</div>"
      ],
      "text/plain": [
       "   City_ID          City Country        Date    Lat     Lng  Max Temp  \\\n",
       "0        0  jacareacanga      BR  1528902000  -6.22  -57.76     89.60   \n",
       "1        1    kaitangata      NZ  1528905304 -46.28  169.85     42.61   \n",
       "2        2      goulburn      AU  1528905078 -34.75  149.72     44.32   \n",
       "3        3          lata      IN  1528905305  30.78   78.62     59.89   \n",
       "4        4    chokurdakh      RU  1528905306  70.62  147.90     32.17   \n",
       "\n",
       "   Humidity  Cloudiness  Wind Speed  \n",
       "0        62           0        6.93  \n",
       "1        94         100        5.64  \n",
       "2        91          20       10.11  \n",
       "3        89          76        0.94  \n",
       "4        88           0        2.95  "
      ]
     },
     "execution_count": 13,
     "metadata": {},
     "output_type": "execute_result"
    }
   ],
   "source": [
    "cities_prep = pd.read_csv(cities_csv)\n",
    "\n",
    "cities_df=pd.DataFrame(cities_prep)\n",
    "\n",
    "cities_df=cities_df[[\"City_ID\", \"City\", \"Country\",\"Date\", \"Lat\", \"Lng\", \"Max Temp\",\"Humidity\", \"Cloudiness\", \"Wind Speed\",]]\n",
    "\n",
    "cities_df.head()"
   ]
  },
  {
   "cell_type": "code",
   "execution_count": 15,
   "metadata": {},
   "outputs": [],
   "source": [
    "cities_df.to_html('cities_from_csv.html', index=False)"
   ]
  },
  {
   "cell_type": "code",
   "execution_count": null,
   "metadata": {},
   "outputs": [],
   "source": []
  }
 ],
 "metadata": {
  "kernelspec": {
   "display_name": "Python 3",
   "language": "python",
   "name": "python3"
  },
  "language_info": {
   "codemirror_mode": {
    "name": "ipython",
    "version": 3
   },
   "file_extension": ".py",
   "mimetype": "text/x-python",
   "name": "python",
   "nbconvert_exporter": "python",
   "pygments_lexer": "ipython3",
   "version": "3.7.4"
  }
 },
 "nbformat": 4,
 "nbformat_minor": 2
}
